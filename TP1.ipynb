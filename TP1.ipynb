{
  "nbformat": 4,
  "nbformat_minor": 0,
  "metadata": {
    "colab": {
      "name": "TP1.ipynb",
      "provenance": [],
      "authorship_tag": "ABX9TyOaKtR+jFgyY7RTgWqDEAHZ",
      "include_colab_link": true
    },
    "kernelspec": {
      "name": "python3",
      "display_name": "Python 3"
    },
    "language_info": {
      "name": "python"
    }
  },
  "cells": [
    {
      "cell_type": "markdown",
      "metadata": {
        "id": "view-in-github",
        "colab_type": "text"
      },
      "source": [
        "<a href=\"https://colab.research.google.com/github/Apaillard/BigData/blob/main/TP1.ipynb\" target=\"_parent\"><img src=\"https://colab.research.google.com/assets/colab-badge.svg\" alt=\"Open In Colab\"/></a>"
      ]
    },
    {
      "cell_type": "code",
      "metadata": {
        "id": "qXbz6uP69x-C"
      },
      "source": [
        "from sklearn import *\n",
        "import numpy as np\n",
        "import matplotlib.pyplot as plt\n",
        "\n",
        "iris = datasets.load_iris()\n",
        "\n",
        "#Affiche la matrice de données\n",
        "print(\"matrice de données\")\n",
        "print(iris.data)\n",
        "\n",
        "#affiche le nom des variables\n",
        "print(\"\\n noms des variables\")\n",
        "print(iris.feature_names)\n",
        "\n",
        "#affiche le nom des classes\n",
        "print(\"\\n noms des classes\")\n",
        "print(iris.target_names)\n",
        "\n",
        "#affiche le nom des classes pour chaques données\n",
        "print(\"\\n noms des classes pour chaques données\")\n",
        "print()\n",
        "\n",
        "#affiche la moyenne de chaques variables\n",
        "print(\"\\n moyenne de chaques variables\")\n",
        "print(iris.data.mean(0))\n",
        "\n",
        "#affiche l'écart-type de chaques variables\n",
        "print(\"\\n écart-type de chaques variables\")\n",
        "print(iris.data.std(0))\n",
        "\n",
        "#affiche le min de chaques variables\n",
        "print(\"\\n min de chaques variables\")\n",
        "print(iris.data.min(0))\n",
        "\n",
        "#affiche le max de chaques variables\n",
        "print(\"\\n max de chaques variables\")\n",
        "print(iris.data.max(0))"
      ],
      "execution_count": null,
      "outputs": []
    }
  ]
}